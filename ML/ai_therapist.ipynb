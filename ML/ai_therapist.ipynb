{
 "cells": [
  {
   "cell_type": "code",
   "execution_count": 1,
   "id": "dfb9a104-4359-4250-a5df-dc675694f86d",
   "metadata": {},
   "outputs": [
    {
     "name": "stdout",
     "output_type": "stream",
     "text": [
      "Defaulting to user installation because normal site-packages is not writeable\n",
      "Collecting google-generativeai\n",
      "  Downloading google_generativeai-0.8.5-py3-none-any.whl.metadata (3.9 kB)\n",
      "Collecting google-ai-generativelanguage==0.6.15 (from google-generativeai)\n",
      "  Downloading google_ai_generativelanguage-0.6.15-py3-none-any.whl.metadata (5.7 kB)\n",
      "Collecting google-api-core (from google-generativeai)\n",
      "  Downloading google_api_core-2.24.2-py3-none-any.whl.metadata (3.0 kB)\n",
      "Collecting google-api-python-client (from google-generativeai)\n",
      "  Downloading google_api_python_client-2.169.0-py3-none-any.whl.metadata (6.7 kB)\n",
      "Collecting google-auth>=2.15.0 (from google-generativeai)\n",
      "  Downloading google_auth-2.39.0-py2.py3-none-any.whl.metadata (6.2 kB)\n",
      "Requirement already satisfied: protobuf in c:\\users\\kunal\\appdata\\roaming\\python\\python313\\site-packages (from google-generativeai) (5.29.4)\n",
      "Requirement already satisfied: pydantic in c:\\users\\kunal\\appdata\\roaming\\python\\python313\\site-packages (from google-generativeai) (2.11.3)\n",
      "Requirement already satisfied: tqdm in c:\\users\\kunal\\appdata\\roaming\\python\\python313\\site-packages (from google-generativeai) (4.67.1)\n",
      "Requirement already satisfied: typing-extensions in c:\\users\\kunal\\appdata\\roaming\\python\\python313\\site-packages (from google-generativeai) (4.13.2)\n",
      "Collecting google-api-core (from google-generativeai)\n",
      "  Downloading google_api_core-2.25.0rc0-py3-none-any.whl.metadata (3.0 kB)\n",
      "Collecting proto-plus<2.0.0dev,>=1.22.3 (from google-ai-generativelanguage==0.6.15->google-generativeai)\n",
      "  Downloading proto_plus-1.26.1-py3-none-any.whl.metadata (2.2 kB)\n",
      "Collecting googleapis-common-protos<2.0.0,>=1.56.2 (from google-api-core->google-generativeai)\n",
      "  Downloading googleapis_common_protos-1.70.0-py3-none-any.whl.metadata (9.3 kB)\n",
      "Requirement already satisfied: requests<3.0.0,>=2.18.0 in c:\\users\\kunal\\appdata\\roaming\\python\\python313\\site-packages (from google-api-core->google-generativeai) (2.32.3)\n",
      "Requirement already satisfied: cachetools<6.0,>=2.0.0 in c:\\users\\kunal\\appdata\\roaming\\python\\python313\\site-packages (from google-auth>=2.15.0->google-generativeai) (5.5.2)\n",
      "Collecting pyasn1-modules>=0.2.1 (from google-auth>=2.15.0->google-generativeai)\n",
      "  Downloading pyasn1_modules-0.4.2-py3-none-any.whl.metadata (3.5 kB)\n",
      "Collecting rsa<5,>=3.1.4 (from google-auth>=2.15.0->google-generativeai)\n",
      "  Downloading rsa-4.9.1-py3-none-any.whl.metadata (5.6 kB)\n",
      "Collecting httplib2<1.0.0,>=0.19.0 (from google-api-python-client->google-generativeai)\n",
      "  Downloading httplib2-0.22.0-py3-none-any.whl.metadata (2.6 kB)\n",
      "Collecting google-auth-httplib2<1.0.0,>=0.2.0 (from google-api-python-client->google-generativeai)\n",
      "  Downloading google_auth_httplib2-0.2.0-py2.py3-none-any.whl.metadata (2.2 kB)\n",
      "Collecting uritemplate<5,>=3.0.1 (from google-api-python-client->google-generativeai)\n",
      "  Downloading uritemplate-4.1.1-py2.py3-none-any.whl.metadata (2.9 kB)\n",
      "Requirement already satisfied: annotated-types>=0.6.0 in c:\\users\\kunal\\appdata\\roaming\\python\\python313\\site-packages (from pydantic->google-generativeai) (0.7.0)\n",
      "Requirement already satisfied: pydantic-core==2.33.1 in c:\\users\\kunal\\appdata\\roaming\\python\\python313\\site-packages (from pydantic->google-generativeai) (2.33.1)\n",
      "Requirement already satisfied: typing-inspection>=0.4.0 in c:\\users\\kunal\\appdata\\roaming\\python\\python313\\site-packages (from pydantic->google-generativeai) (0.4.0)\n",
      "Requirement already satisfied: colorama in c:\\users\\kunal\\appdata\\roaming\\python\\python313\\site-packages (from tqdm->google-generativeai) (0.4.6)\n",
      "Collecting grpcio<2.0.0,>=1.33.2 (from google-api-core[grpc]!=2.0.*,!=2.1.*,!=2.10.*,!=2.2.*,!=2.3.*,!=2.4.*,!=2.5.*,!=2.6.*,!=2.7.*,!=2.8.*,!=2.9.*,<3.0.0dev,>=1.34.1->google-ai-generativelanguage==0.6.15->google-generativeai)\n",
      "  Downloading grpcio-1.71.0-cp313-cp313-win_amd64.whl.metadata (4.0 kB)\n",
      "Collecting grpcio-status<2.0.0,>=1.33.2 (from google-api-core[grpc]!=2.0.*,!=2.1.*,!=2.10.*,!=2.2.*,!=2.3.*,!=2.4.*,!=2.5.*,!=2.6.*,!=2.7.*,!=2.8.*,!=2.9.*,<3.0.0dev,>=1.34.1->google-ai-generativelanguage==0.6.15->google-generativeai)\n",
      "  Downloading grpcio_status-1.71.0-py3-none-any.whl.metadata (1.1 kB)\n",
      "Collecting pyparsing!=3.0.0,!=3.0.1,!=3.0.2,!=3.0.3,<4,>=2.4.2 (from httplib2<1.0.0,>=0.19.0->google-api-python-client->google-generativeai)\n",
      "  Downloading pyparsing-3.2.3-py3-none-any.whl.metadata (5.0 kB)\n",
      "Collecting pyasn1<0.7.0,>=0.6.1 (from pyasn1-modules>=0.2.1->google-auth>=2.15.0->google-generativeai)\n",
      "  Downloading pyasn1-0.6.1-py3-none-any.whl.metadata (8.4 kB)\n",
      "Requirement already satisfied: charset-normalizer<4,>=2 in c:\\users\\kunal\\appdata\\roaming\\python\\python313\\site-packages (from requests<3.0.0,>=2.18.0->google-api-core->google-generativeai) (3.4.1)\n",
      "Requirement already satisfied: idna<4,>=2.5 in c:\\users\\kunal\\appdata\\roaming\\python\\python313\\site-packages (from requests<3.0.0,>=2.18.0->google-api-core->google-generativeai) (3.10)\n",
      "Requirement already satisfied: urllib3<3,>=1.21.1 in c:\\users\\kunal\\appdata\\roaming\\python\\python313\\site-packages (from requests<3.0.0,>=2.18.0->google-api-core->google-generativeai) (2.3.0)\n",
      "Requirement already satisfied: certifi>=2017.4.17 in c:\\users\\kunal\\appdata\\roaming\\python\\python313\\site-packages (from requests<3.0.0,>=2.18.0->google-api-core->google-generativeai) (2025.1.31)\n",
      "Downloading google_generativeai-0.8.5-py3-none-any.whl (155 kB)\n",
      "Downloading google_ai_generativelanguage-0.6.15-py3-none-any.whl (1.3 MB)\n",
      "   ---------------------------------------- 0.0/1.3 MB ? eta -:--:--\n",
      "   ----------------------- ---------------- 0.8/1.3 MB 6.3 MB/s eta 0:00:01\n",
      "   ---------------------------------------- 1.3/1.3 MB 4.5 MB/s eta 0:00:00\n",
      "Downloading google_api_core-2.25.0rc0-py3-none-any.whl (160 kB)\n",
      "Downloading google_auth-2.39.0-py2.py3-none-any.whl (212 kB)\n",
      "Downloading google_api_python_client-2.169.0-py3-none-any.whl (13.3 MB)\n",
      "   ---------------------------------------- 0.0/13.3 MB ? eta -:--:--\n",
      "   -- ------------------------------------- 0.8/13.3 MB 3.6 MB/s eta 0:00:04\n",
      "   --- ------------------------------------ 1.3/13.3 MB 4.0 MB/s eta 0:00:03\n",
      "   ------- -------------------------------- 2.4/13.3 MB 3.9 MB/s eta 0:00:03\n",
      "   -------- ------------------------------- 2.9/13.3 MB 3.8 MB/s eta 0:00:03\n",
      "   ----------- ---------------------------- 3.7/13.3 MB 3.7 MB/s eta 0:00:03\n",
      "   ------------- -------------------------- 4.5/13.3 MB 3.6 MB/s eta 0:00:03\n",
      "   --------------- ------------------------ 5.2/13.3 MB 3.6 MB/s eta 0:00:03\n",
      "   ------------------ --------------------- 6.0/13.3 MB 3.7 MB/s eta 0:00:02\n",
      "   -------------------- ------------------- 6.8/13.3 MB 3.7 MB/s eta 0:00:02\n",
      "   ---------------------- ----------------- 7.6/13.3 MB 3.7 MB/s eta 0:00:02\n",
      "   ------------------------- -------------- 8.4/13.3 MB 3.7 MB/s eta 0:00:02\n",
      "   --------------------------- ------------ 9.2/13.3 MB 3.7 MB/s eta 0:00:02\n",
      "   ----------------------------- ---------- 10.0/13.3 MB 3.8 MB/s eta 0:00:01\n",
      "   -------------------------------- ------- 10.7/13.3 MB 3.8 MB/s eta 0:00:01\n",
      "   ---------------------------------- ----- 11.5/13.3 MB 3.8 MB/s eta 0:00:01\n",
      "   ------------------------------------ --- 12.3/13.3 MB 3.8 MB/s eta 0:00:01\n",
      "   ---------------------------------------  13.1/13.3 MB 3.8 MB/s eta 0:00:01\n",
      "   ---------------------------------------- 13.3/13.3 MB 3.8 MB/s eta 0:00:00\n",
      "Downloading google_auth_httplib2-0.2.0-py2.py3-none-any.whl (9.3 kB)\n",
      "Downloading googleapis_common_protos-1.70.0-py3-none-any.whl (294 kB)\n",
      "Downloading httplib2-0.22.0-py3-none-any.whl (96 kB)\n",
      "Downloading proto_plus-1.26.1-py3-none-any.whl (50 kB)\n",
      "Downloading pyasn1_modules-0.4.2-py3-none-any.whl (181 kB)\n",
      "Downloading rsa-4.9.1-py3-none-any.whl (34 kB)\n",
      "Downloading uritemplate-4.1.1-py2.py3-none-any.whl (10 kB)\n",
      "Downloading grpcio-1.71.0-cp313-cp313-win_amd64.whl (4.3 MB)\n",
      "   ---------------------------------------- 0.0/4.3 MB ? eta -:--:--\n",
      "   --------- ------------------------------ 1.0/4.3 MB 6.4 MB/s eta 0:00:01\n",
      "   ----------------- ---------------------- 1.8/4.3 MB 4.9 MB/s eta 0:00:01\n",
      "   ------------------------ --------------- 2.6/4.3 MB 4.5 MB/s eta 0:00:01\n",
      "   ------------------------------- -------- 3.4/4.3 MB 4.3 MB/s eta 0:00:01\n",
      "   ------------------------------------ --- 3.9/4.3 MB 3.8 MB/s eta 0:00:01\n",
      "   ---------------------------------------- 4.3/4.3 MB 3.5 MB/s eta 0:00:00\n",
      "Downloading grpcio_status-1.71.0-py3-none-any.whl (14 kB)\n",
      "Downloading pyasn1-0.6.1-py3-none-any.whl (83 kB)\n",
      "Downloading pyparsing-3.2.3-py3-none-any.whl (111 kB)\n",
      "Installing collected packages: uritemplate, pyparsing, pyasn1, proto-plus, grpcio, googleapis-common-protos, rsa, pyasn1-modules, httplib2, grpcio-status, google-auth, google-auth-httplib2, google-api-core, google-api-python-client, google-ai-generativelanguage, google-generativeai\n",
      "Successfully installed google-ai-generativelanguage-0.6.15 google-api-core-2.25.0rc0 google-api-python-client-2.169.0 google-auth-2.39.0 google-auth-httplib2-0.2.0 google-generativeai-0.8.5 googleapis-common-protos-1.70.0 grpcio-1.71.0 grpcio-status-1.71.0 httplib2-0.22.0 proto-plus-1.26.1 pyasn1-0.6.1 pyasn1-modules-0.4.2 pyparsing-3.2.3 rsa-4.9.1 uritemplate-4.1.1\n"
     ]
    },
    {
     "name": "stderr",
     "output_type": "stream",
     "text": [
      "  WARNING: The scripts pyrsa-decrypt.exe, pyrsa-encrypt.exe, pyrsa-keygen.exe, pyrsa-priv2pub.exe, pyrsa-sign.exe and pyrsa-verify.exe are installed in 'C:\\Users\\KUNAL\\AppData\\Roaming\\Python\\Python313\\Scripts' which is not on PATH.\n",
      "  Consider adding this directory to PATH or, if you prefer to suppress this warning, use --no-warn-script-location.\n",
      "\n",
      "[notice] A new release of pip is available: 25.0.1 -> 25.1\n",
      "[notice] To update, run: python.exe -m pip install --upgrade pip\n"
     ]
    }
   ],
   "source": [
    "!pip install google-generativeai"
   ]
  },
  {
   "cell_type": "code",
   "execution_count": 2,
   "id": "2aadb594-c84b-4396-8bcd-cd307da6bfa9",
   "metadata": {},
   "outputs": [
    {
     "name": "stdout",
     "output_type": "stream",
     "text": [
      "GenAI configured successfully!\n"
     ]
    },
    {
     "name": "stderr",
     "output_type": "stream",
     "text": [
      "C:\\Users\\KUNAL\\AppData\\Roaming\\Python\\Python313\\site-packages\\tqdm\\auto.py:21: TqdmWarning: IProgress not found. Please update jupyter and ipywidgets. See https://ipywidgets.readthedocs.io/en/stable/user_install.html\n",
      "  from .autonotebook import tqdm as notebook_tqdm\n"
     ]
    }
   ],
   "source": [
    "import google.generativeai as genai\n",
    "from dotenv import load_dotenv\n",
    "import os\n",
    "\n",
    "load_dotenv()\n",
    "api_key = os.getenv(\"API_KEY\")\n",
    "\n",
    "genai.configure(api_key=api_key)\n",
    "print(\"GenAI configured successfully!\")"
   ]
  },
  {
   "cell_type": "code",
   "execution_count": 4,
   "id": "51b73938-d890-4980-a2de-e79a128cfc57",
   "metadata": {},
   "outputs": [],
   "source": [
    "prompt= '''You are a kind, supportive, and empathetic mental wellness assistant named \"Solace.\" You are here to help users talk through their emotions, manage everyday stress, and reflect on their thoughts. \n",
    "\n",
    "You are NOT a licensed therapist or medical professional, and you never offer diagnoses, medication suggestions, or crisis intervention. Your goal is to listen attentively, provide comfort, ask gentle questions, and suggest non-clinical wellness practices like journaling, deep breathing, or taking small steps.\n",
    "\n",
    "Your tone should always be:\n",
    "- Compassionate, calm, and warm\n",
    "- Non-judgmental and non-authoritative\n",
    "- Encouraging self-reflection, not giving life advice\n",
    "\n",
    "If a user expresses severe emotional distress (e.g., mentions suicide, self-harm, or hopelessness), you must respond with empathy and gently encourage them to contact a licensed mental health professional or a local helpline. Never attempt to handle these situations yourself.\n",
    "\n",
    "Avoid giving generic advice. Personalize your responses based on the user’s feelings.\n",
    "\n",
    "Here are some examples of your behavior:\n",
    "- If the user says: \"I feel like a failure,\" respond with warmth and help them explore that feeling gently.\n",
    "- If they say: \"I'm overwhelmed,\" help them unpack what's bothering them and suggest grounding techniques.\n",
    "- If they say: \"I want to disappear,\" respond empathetically and encourage seeking professional support.\n",
    "\n",
    "You are here as a wellness companion to support users through conversations, not to provide clinical help.\n",
    "'''"
   ]
  },
  {
   "cell_type": "code",
   "execution_count": null,
   "id": "a9cad4a4-f60c-491b-a8a5-57f02929c8b4",
   "metadata": {},
   "outputs": [
    {
     "name": "stdout",
     "output_type": "stream",
     "text": [
      "I hear you.  It sounds like you're having a tough time today.  I can't offer medical advice, but I can offer some suggestions that might help you manage your anxiety:\n",
      "\n",
      "* **Deep breathing exercises:**  Try inhaling deeply through your nose, holding for a few seconds, and exhaling slowly through your mouth.  Repeating this several times can help calm your nervous system.\n",
      "\n",
      "* **Mindfulness or meditation:** Even a few minutes of focusing on your breath or a calming image can make a difference. There are many guided meditations available online or through apps.\n",
      "\n",
      "* **Physical activity:**  Even a short walk can release endorphins and help alleviate anxiety.\n",
      "\n",
      "* **Grounding techniques:**  Focus on your senses.  What do you see, hear, smell, taste, and touch?  This can help bring you back to the present moment.\n",
      "\n",
      "* **Distraction:**  Engage in an activity you enjoy, such as reading, listening to music, or watching a movie.\n",
      "\n",
      "* **Connect with someone:** Talk to a friend, family member, or therapist.  Sometimes just sharing how you feel can provide relief.\n",
      "\n",
      "If your anxiety is severe or persistent, please reach out to a mental health professional.  They can provide you with the support and guidance you need.  You are not alone, and help is available.\n",
      "\n"
     ]
    }
   ],
   "source": [
    "model = genai.GenerativeModel('models/gemini-1.5-flash-latest')\n",
    "chat = model.start_chat(history=[])\n",
    "response = chat.send_message(\"I'm feeling really anxious today.\")\n",
    "print(response.text)"
   ]
  },
  {
   "cell_type": "code",
   "execution_count": 6,
   "id": "88babc17-09ca-41d0-b237-a1b1e7d5ff62",
   "metadata": {},
   "outputs": [],
   "source": [
    "msg = \"I had trouble at home today, I am preparing for JEE and unable to study good, my parents want me to study hard and all but I am unable to, I just faced a severe breakup and  have responisbility of my house\" "
   ]
  },
  {
   "cell_type": "code",
   "execution_count": 8,
   "id": "40eb95c9-a0a3-4c37-9509-d3eb1eebb351",
   "metadata": {},
   "outputs": [
    {
     "name": "stdout",
     "output_type": "stream",
     "text": [
      "I understand.  This is a tremendously difficult situation, and it's completely understandable that you're struggling.  Juggling the pressure of the JEE exam, a recent severe breakup, and household responsibilities is an immense burden.  Let's break it down and explore some potential solutions:\n",
      "\n",
      "**1. Addressing the Immediate Crisis:**\n",
      "\n",
      "* **What happened at home today?** Knowing the specifics will help me suggest more targeted strategies. Was it an argument?  A specific task that felt overwhelming?  Understanding the source of the stress will help.\n",
      "\n",
      "* **Prioritize self-care:** Right now, focusing on your well-being is crucial.  This might mean:\n",
      "    * **Taking breaks:**  Step away from studying and your responsibilities for short periods throughout the day.  Even 10-15 minutes can make a difference.\n",
      "    * **Mindfulness or relaxation techniques:** Deep breathing, meditation, or progressive muscle relaxation can help calm your nervous system.\n",
      "    * **Physical activity:**  Even a short walk can release endorphins and improve your mood.\n",
      "    * **Connecting with someone supportive:** Talk to a friend, a family member (if possible), or a trusted teacher.  Just venting can provide some relief.\n",
      "\n",
      "\n",
      "**2. Long-Term Strategies:**\n",
      "\n",
      "* **Honest communication with your parents:**  This is vital.  Explain calmly and honestly how overwhelmed you are.  Let them know about the breakup and the impact it's having on your ability to focus.  Ask for their understanding and support.  Perhaps they can help lighten your household responsibilities, even temporarily.\n",
      "\n",
      "* **Re-evaluate your study plan:** The JEE exam is important, but your mental health is paramount.  A realistic and sustainable study plan is crucial.  Consider:\n",
      "    * **Breaking down tasks:**  Instead of focusing on the entire syllabus, break it down into smaller, manageable chunks.\n",
      "    * **Setting realistic goals:**  Don't aim for perfection; aim for progress.  Celebrate small victories.\n",
      "    * **Seeking help:**  Consider tutoring or study groups for subjects you find particularly challenging.\n",
      "\n",
      "* **Seeking professional help:**  A therapist can provide valuable support for managing stress, anxiety, and grief after a breakup.  They can equip you with coping mechanisms and strategies to navigate this difficult time.\n",
      "\n",
      "* **Managing household responsibilities:**  Can you delegate some tasks?  Can your parents help?  Can you adjust your schedule to better manage your responsibilities?\n",
      "\n",
      "* **Grief and healing from the breakup:** Allow yourself time to grieve.  Avoid isolating yourself; connect with supportive friends or family members.  Consider journaling or engaging in activities that bring you comfort.\n",
      "\n",
      "\n",
      "**3.  Actionable Steps:**\n",
      "\n",
      "1. **Take a deep breath right now.**\n",
      "2. **Identify one small task related to your studies or household responsibilities that you can accomplish today.**  Make it very small, something you know you can achieve.\n",
      "3. **Reach out to one person you trust and share how you're feeling.**\n",
      "\n",
      "This is a challenging time, but you are not alone.  Focusing on small, manageable steps and seeking support will make a significant difference.  Remember to prioritize your well-being.\n",
      "\n"
     ]
    }
   ],
   "source": [
    "print(chat.send_message(msg).text)"
   ]
  },
  {
   "cell_type": "code",
   "execution_count": null,
   "id": "90d8151a-7359-4cf6-86da-578446371b4c",
   "metadata": {},
   "outputs": [],
   "source": []
  }
 ],
 "metadata": {
  "kernelspec": {
   "display_name": "Python 3 (ipykernel)",
   "language": "python",
   "name": "python3"
  },
  "language_info": {
   "codemirror_mode": {
    "name": "ipython",
    "version": 3
   },
   "file_extension": ".py",
   "mimetype": "text/x-python",
   "name": "python",
   "nbconvert_exporter": "python",
   "pygments_lexer": "ipython3",
   "version": "3.13.1"
  }
 },
 "nbformat": 4,
 "nbformat_minor": 5
}
