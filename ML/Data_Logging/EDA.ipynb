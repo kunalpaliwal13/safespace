{
 "cells": [
  {
   "cell_type": "code",
   "execution_count": 22,
   "id": "90f5337c",
   "metadata": {},
   "outputs": [
    {
     "name": "stdout",
     "output_type": "stream",
     "text": [
      "   id                         timestamp user_id  \\\n",
      "0   1  2025-06-24T22:01:27.194058+00:00    0001   \n",
      "1   2  2025-06-24T22:01:44.606209+00:00    0001   \n",
      "2   3  2025-06-24T22:02:23.989796+00:00    0001   \n",
      "3   4  2025-06-24T22:22:31.213407+00:00    0001   \n",
      "4   5  2025-06-24T22:23:10.141975+00:00    0001   \n",
      "\n",
      "                             session_id                    user_message  \\\n",
      "0  5079f72b-8edb-4ff3-a2f6-3273458ab18f           I am not feeling well   \n",
      "1  5079f72b-8edb-4ff3-a2f6-3273458ab18f            I just had a breakup   \n",
      "2  5079f72b-8edb-4ff3-a2f6-3273458ab18f  I cry a lot like a little baby   \n",
      "3  5079f72b-8edb-4ff3-a2f6-3273458ab18f                  dil tut gya ji   \n",
      "4  5079f72b-8edb-4ff3-a2f6-3273458ab18f     cheat ki si mennu meri heer   \n",
      "\n",
      "                                    chatbot_response context  \n",
      "0  I'm sorry to hear you're not feeling well. Tha...          \n",
      "1  Oh, I'm so sorry to hear that. Breakups are in...          \n",
      "2  There's absolutely nothing wrong with that. Cr...          \n",
      "3  \"Dil tut gaya ji\" - I understand. A broken hea...          \n",
      "4  \"Cheat kiti si mennu meri heer\" - I hear you. ...          \n"
     ]
    }
   ],
   "source": [
    "import sqlite3\n",
    "import pandas as pd\n",
    "\n",
    "conn = sqlite3.connect(\"../interaction_logs.db\")\n",
    "df = pd.read_sql_query(\"SELECT * FROM interactions\", conn)\n",
    "\n",
    "print(df.head())"
   ]
  },
  {
   "cell_type": "code",
   "execution_count": 4,
   "id": "23e16768",
   "metadata": {},
   "outputs": [
    {
     "name": "stdout",
     "output_type": "stream",
     "text": [
      "Collecting textblob\n",
      "  Downloading textblob-0.19.0-py3-none-any.whl.metadata (4.4 kB)\n",
      "Collecting nltk>=3.9 (from textblob)\n",
      "  Downloading nltk-3.9.1-py3-none-any.whl.metadata (2.9 kB)\n",
      "Requirement already satisfied: click in /home/kunal/.pyenv/versions/3.11.4/lib/python3.11/site-packages (from nltk>=3.9->textblob) (8.2.1)\n",
      "Requirement already satisfied: joblib in /home/kunal/.pyenv/versions/3.11.4/lib/python3.11/site-packages (from nltk>=3.9->textblob) (1.5.1)\n",
      "Requirement already satisfied: regex>=2021.8.3 in /home/kunal/.pyenv/versions/3.11.4/lib/python3.11/site-packages (from nltk>=3.9->textblob) (2024.11.6)\n",
      "Requirement already satisfied: tqdm in /home/kunal/.pyenv/versions/3.11.4/lib/python3.11/site-packages (from nltk>=3.9->textblob) (4.67.1)\n",
      "Downloading textblob-0.19.0-py3-none-any.whl (624 kB)\n",
      "\u001b[2K   \u001b[90m━━━━━━━━━━━━━━━━━━━━━━━━━━━━━━━━━━━━━━━━\u001b[0m \u001b[32m624.3/624.3 kB\u001b[0m \u001b[31m2.1 MB/s\u001b[0m eta \u001b[36m0:00:00\u001b[0ma \u001b[36m0:00:01\u001b[0m\n",
      "\u001b[?25hDownloading nltk-3.9.1-py3-none-any.whl (1.5 MB)\n",
      "\u001b[2K   \u001b[90m━━━━━━━━━━━━━━━━━━━━━━━━━━━━━━━━━━━━━━━━\u001b[0m \u001b[32m1.5/1.5 MB\u001b[0m \u001b[31m2.6 MB/s\u001b[0m eta \u001b[36m0:00:00\u001b[0ma \u001b[36m0:00:01\u001b[0m\n",
      "\u001b[?25hInstalling collected packages: nltk, textblob\n",
      "\u001b[2K  Attempting uninstall: nltk\n",
      "\u001b[2K    Found existing installation: nltk 3.9b1\n",
      "\u001b[2K    Uninstalling nltk-3.9b1:\n",
      "\u001b[2K      Successfully uninstalled nltk-3.9b1\n",
      "\u001b[2K   \u001b[90m━━━━━━━━━━━━━━━━━━━━━━━━━━━━━━━━━━━━━━━━\u001b[0m \u001b[32m2/2\u001b[0m [textblob]\n",
      "\u001b[1A\u001b[2KSuccessfully installed nltk-3.9.1 textblob-0.19.0\n"
     ]
    }
   ],
   "source": [
    "!pip install textblob"
   ]
  },
  {
   "cell_type": "code",
   "execution_count": 23,
   "id": "7a0f0f04",
   "metadata": {},
   "outputs": [],
   "source": [
    "from textblob import TextBlob\n",
    "\n",
    "df['user_sentiment'] = df['user_message'].apply(lambda x: TextBlob(x).sentiment.polarity)"
   ]
  },
  {
   "cell_type": "code",
   "execution_count": 7,
   "id": "48a9f513",
   "metadata": {},
   "outputs": [
    {
     "name": "stdout",
     "output_type": "stream",
     "text": [
      "Collecting matplotlib\n",
      "  Using cached matplotlib-3.10.3-cp311-cp311-manylinux_2_17_x86_64.manylinux2014_x86_64.whl.metadata (11 kB)\n",
      "Collecting contourpy>=1.0.1 (from matplotlib)\n",
      "  Using cached contourpy-1.3.2-cp311-cp311-manylinux_2_17_x86_64.manylinux2014_x86_64.whl.metadata (5.5 kB)\n",
      "Collecting cycler>=0.10 (from matplotlib)\n",
      "  Using cached cycler-0.12.1-py3-none-any.whl.metadata (3.8 kB)\n",
      "Collecting fonttools>=4.22.0 (from matplotlib)\n",
      "  Using cached fonttools-4.58.4-cp311-cp311-manylinux2014_x86_64.manylinux_2_17_x86_64.whl.metadata (106 kB)\n",
      "Collecting kiwisolver>=1.3.1 (from matplotlib)\n",
      "  Using cached kiwisolver-1.4.8-cp311-cp311-manylinux_2_17_x86_64.manylinux2014_x86_64.whl.metadata (6.2 kB)\n",
      "Requirement already satisfied: numpy>=1.23 in /home/kunal/.pyenv/versions/3.11.4/lib/python3.11/site-packages (from matplotlib) (1.26.4)\n",
      "Requirement already satisfied: packaging>=20.0 in /home/kunal/.pyenv/versions/3.11.4/lib/python3.11/site-packages (from matplotlib) (25.0)\n",
      "Requirement already satisfied: pillow>=8 in /home/kunal/.pyenv/versions/3.11.4/lib/python3.11/site-packages (from matplotlib) (11.2.1)\n",
      "Collecting pyparsing>=2.3.1 (from matplotlib)\n",
      "  Using cached pyparsing-3.2.3-py3-none-any.whl.metadata (5.0 kB)\n",
      "Requirement already satisfied: python-dateutil>=2.7 in /home/kunal/.local/lib/python3.11/site-packages (from matplotlib) (2.9.0.post0)\n",
      "Requirement already satisfied: six>=1.5 in /home/kunal/.local/lib/python3.11/site-packages (from python-dateutil>=2.7->matplotlib) (1.17.0)\n",
      "Using cached matplotlib-3.10.3-cp311-cp311-manylinux_2_17_x86_64.manylinux2014_x86_64.whl (8.6 MB)\n",
      "Using cached contourpy-1.3.2-cp311-cp311-manylinux_2_17_x86_64.manylinux2014_x86_64.whl (326 kB)\n",
      "Using cached cycler-0.12.1-py3-none-any.whl (8.3 kB)\n",
      "Using cached fonttools-4.58.4-cp311-cp311-manylinux2014_x86_64.manylinux_2_17_x86_64.whl (5.0 MB)\n",
      "Using cached kiwisolver-1.4.8-cp311-cp311-manylinux_2_17_x86_64.manylinux2014_x86_64.whl (1.4 MB)\n",
      "Using cached pyparsing-3.2.3-py3-none-any.whl (111 kB)\n",
      "Installing collected packages: pyparsing, kiwisolver, fonttools, cycler, contourpy, matplotlib\n",
      "\u001b[2K   \u001b[90m━━━━━━━━━━━━━━━━━━━━━━━━━━━━━━━━━━━━━━━━\u001b[0m \u001b[32m6/6\u001b[0m [matplotlib]6\u001b[0m [matplotlib]\n",
      "\u001b[1A\u001b[2KSuccessfully installed contourpy-1.3.2 cycler-0.12.1 fonttools-4.58.4 kiwisolver-1.4.8 matplotlib-3.10.3 pyparsing-3.2.3\n"
     ]
    }
   ],
   "source": [
    "!pip install matplotlib"
   ]
  },
  {
   "cell_type": "code",
   "execution_count": 24,
   "id": "aa0a747d",
   "metadata": {},
   "outputs": [
    {
     "data": {
      "image/png": "[encoded data removed]",
      "text/plain": [
       "<Figure size 640x480 with 1 Axes>"
      ]
     },
     "metadata": {},
     "output_type": "display_data"
    }
   ],
   "source": [
    "import matplotlib.pyplot as plt\n",
    "\n",
    "df['user_sentiment'].hist(bins=20)\n",
    "plt.title(\"Distribution of User Sentiment Scores\")\n",
    "plt.show()"
   ]
  },
  {
   "cell_type": "code",
   "execution_count": 28,
   "id": "847c8a6f",
   "metadata": {},
   "outputs": [
    {
     "data": {
      "text/html": [
       "<div>\n",
       "<style scoped>\n",
       "    .dataframe tbody tr th:only-of-type {\n",
       "        vertical-align: middle;\n",
       "    }\n",
       "\n",
       "    .dataframe tbody tr th {\n",
       "        vertical-align: top;\n",
       "    }\n",
       "\n",
       "    .dataframe thead th {\n",
       "        text-align: right;\n",
       "    }\n",
       "</style>\n",
       "<table border=\"1\" class=\"dataframe\">\n",
       "  <thead>\n",
       "    <tr style=\"text-align: right;\">\n",
       "      <th></th>\n",
       "      <th>id</th>\n",
       "      <th>timestamp</th>\n",
       "      <th>user_id</th>\n",
       "      <th>session_id</th>\n",
       "      <th>user_message</th>\n",
       "      <th>chatbot_response</th>\n",
       "      <th>context</th>\n",
       "      <th>user_sentiment</th>\n",
       "    </tr>\n",
       "  </thead>\n",
       "  <tbody>\n",
       "    <tr>\n",
       "      <th>0</th>\n",
       "      <td>1</td>\n",
       "      <td>2025-06-24T22:01:27.194058+00:00</td>\n",
       "      <td>0001</td>\n",
       "      <td>5079f72b-8edb-4ff3-a2f6-3273458ab18f</td>\n",
       "      <td>I am not feeling well</td>\n",
       "      <td>I'm sorry to hear you're not feeling well. Tha...</td>\n",
       "      <td></td>\n",
       "      <td>0.0000</td>\n",
       "    </tr>\n",
       "    <tr>\n",
       "      <th>1</th>\n",
       "      <td>2</td>\n",
       "      <td>2025-06-24T22:01:44.606209+00:00</td>\n",
       "      <td>0001</td>\n",
       "      <td>5079f72b-8edb-4ff3-a2f6-3273458ab18f</td>\n",
       "      <td>I just had a breakup</td>\n",
       "      <td>Oh, I'm so sorry to hear that. Breakups are in...</td>\n",
       "      <td></td>\n",
       "      <td>0.0000</td>\n",
       "    </tr>\n",
       "    <tr>\n",
       "      <th>2</th>\n",
       "      <td>3</td>\n",
       "      <td>2025-06-24T22:02:23.989796+00:00</td>\n",
       "      <td>0001</td>\n",
       "      <td>5079f72b-8edb-4ff3-a2f6-3273458ab18f</td>\n",
       "      <td>I cry a lot like a little baby</td>\n",
       "      <td>There's absolutely nothing wrong with that. Cr...</td>\n",
       "      <td></td>\n",
       "      <td>-0.1875</td>\n",
       "    </tr>\n",
       "    <tr>\n",
       "      <th>3</th>\n",
       "      <td>4</td>\n",
       "      <td>2025-06-24T22:22:31.213407+00:00</td>\n",
       "      <td>0001</td>\n",
       "      <td>5079f72b-8edb-4ff3-a2f6-3273458ab18f</td>\n",
       "      <td>dil tut gya ji</td>\n",
       "      <td>\"Dil tut gaya ji\" - I understand. A broken hea...</td>\n",
       "      <td></td>\n",
       "      <td>0.0000</td>\n",
       "    </tr>\n",
       "    <tr>\n",
       "      <th>4</th>\n",
       "      <td>5</td>\n",
       "      <td>2025-06-24T22:23:10.141975+00:00</td>\n",
       "      <td>0001</td>\n",
       "      <td>5079f72b-8edb-4ff3-a2f6-3273458ab18f</td>\n",
       "      <td>cheat ki si mennu meri heer</td>\n",
       "      <td>\"Cheat kiti si mennu meri heer\" - I hear you. ...</td>\n",
       "      <td></td>\n",
       "      <td>0.0000</td>\n",
       "    </tr>\n",
       "  </tbody>\n",
       "</table>\n",
       "</div>"
      ],
      "text/plain": [
       "   id                         timestamp user_id  \\\n",
       "0   1  2025-06-24T22:01:27.194058+00:00    0001   \n",
       "1   2  2025-06-24T22:01:44.606209+00:00    0001   \n",
       "2   3  2025-06-24T22:02:23.989796+00:00    0001   \n",
       "3   4  2025-06-24T22:22:31.213407+00:00    0001   \n",
       "4   5  2025-06-24T22:23:10.141975+00:00    0001   \n",
       "\n",
       "                             session_id                    user_message  \\\n",
       "0  5079f72b-8edb-4ff3-a2f6-3273458ab18f           I am not feeling well   \n",
       "1  5079f72b-8edb-4ff3-a2f6-3273458ab18f            I just had a breakup   \n",
       "2  5079f72b-8edb-4ff3-a2f6-3273458ab18f  I cry a lot like a little baby   \n",
       "3  5079f72b-8edb-4ff3-a2f6-3273458ab18f                  dil tut gya ji   \n",
       "4  5079f72b-8edb-4ff3-a2f6-3273458ab18f     cheat ki si mennu meri heer   \n",
       "\n",
       "                                    chatbot_response context  user_sentiment  \n",
       "0  I'm sorry to hear you're not feeling well. Tha...                  0.0000  \n",
       "1  Oh, I'm so sorry to hear that. Breakups are in...                  0.0000  \n",
       "2  There's absolutely nothing wrong with that. Cr...                 -0.1875  \n",
       "3  \"Dil tut gaya ji\" - I understand. A broken hea...                  0.0000  \n",
       "4  \"Cheat kiti si mennu meri heer\" - I hear you. ...                  0.0000  "
      ]
     },
     "execution_count": 28,
     "metadata": {},
     "output_type": "execute_result"
    }
   ],
   "source": [
    "df.head()"
   ]
  },
  {
   "cell_type": "code",
   "execution_count": 41,
   "id": "24e4df48",
   "metadata": {},
   "outputs": [],
   "source": [
    "df['user_msg_len'] = df['user_message'].apply(lambda x: len(str(x).split()))\n",
    "\n",
    "# 2. Group by session and aggregate\n",
    "session_summary = df.groupby(['session_id', 'user_id']).agg(\n",
    "    message_count=('id', 'count'),\n",
    "    avg_msg_length=('user_msg_len', 'mean'),\n",
    "    sentiment_avg=('user_sentiment', 'mean'),\n",
    "    start_time=('timestamp', 'min'),\n",
    "    end_time=('timestamp', 'max')\n",
    ").reset_index()"
   ]
  },
  {
   "cell_type": "code",
   "execution_count": 42,
   "id": "c86804f9",
   "metadata": {},
   "outputs": [],
   "source": [
    "session_summary['start_time'] = pd.to_datetime(session_summary['start_time'])\n",
    "session_summary['end_time'] = pd.to_datetime(session_summary['end_time'])\n",
    "session_summary['session_duration_min'] = (session_summary['end_time'] - session_summary['start_time']).dt.total_seconds() / 60\n"
   ]
  },
  {
   "cell_type": "code",
   "execution_count": 43,
   "id": "db4c9385",
   "metadata": {},
   "outputs": [],
   "source": [
    "session_summary['session_duration_min'] = (\n",
    "    (session_summary['end_time'] - session_summary['start_time']).dt.total_seconds() / 60\n",
    ")"
   ]
  },
  {
   "cell_type": "code",
   "execution_count": 44,
   "id": "63cfb1de",
   "metadata": {},
   "outputs": [
    {
     "data": {
      "text/html": [
       "<div>\n",
       "<style scoped>\n",
       "    .dataframe tbody tr th:only-of-type {\n",
       "        vertical-align: middle;\n",
       "    }\n",
       "\n",
       "    .dataframe tbody tr th {\n",
       "        vertical-align: top;\n",
       "    }\n",
       "\n",
       "    .dataframe thead th {\n",
       "        text-align: right;\n",
       "    }\n",
       "</style>\n",
       "<table border=\"1\" class=\"dataframe\">\n",
       "  <thead>\n",
       "    <tr style=\"text-align: right;\">\n",
       "      <th></th>\n",
       "      <th>session_id</th>\n",
       "      <th>user_id</th>\n",
       "      <th>message_count</th>\n",
       "      <th>avg_msg_length</th>\n",
       "      <th>sentiment_avg</th>\n",
       "      <th>start_time</th>\n",
       "      <th>end_time</th>\n",
       "      <th>session_duration_min</th>\n",
       "    </tr>\n",
       "  </thead>\n",
       "  <tbody>\n",
       "    <tr>\n",
       "      <th>0</th>\n",
       "      <td>00998877-6655-4433-2211-ffeeccddbb88</td>\n",
       "      <td>0009</td>\n",
       "      <td>1</td>\n",
       "      <td>4.0</td>\n",
       "      <td>0.25</td>\n",
       "      <td>2025-06-24 22:34:55.123123+00:00</td>\n",
       "      <td>2025-06-24 22:34:55.123123+00:00</td>\n",
       "      <td>0.0</td>\n",
       "    </tr>\n",
       "    <tr>\n",
       "      <th>1</th>\n",
       "      <td>11223344-5566-7788-99aa-bbccddeeff00</td>\n",
       "      <td>0005</td>\n",
       "      <td>1</td>\n",
       "      <td>6.0</td>\n",
       "      <td>0.35</td>\n",
       "      <td>2025-06-24 22:32:20.555555+00:00</td>\n",
       "      <td>2025-06-24 22:32:20.555555+00:00</td>\n",
       "      <td>0.0</td>\n",
       "    </tr>\n",
       "    <tr>\n",
       "      <th>2</th>\n",
       "      <td>11223344-5566-7788-99aa-bbccddeeff00</td>\n",
       "      <td>0017</td>\n",
       "      <td>1</td>\n",
       "      <td>5.0</td>\n",
       "      <td>0.00</td>\n",
       "      <td>2025-06-24 22:39:28.445566+00:00</td>\n",
       "      <td>2025-06-24 22:39:28.445566+00:00</td>\n",
       "      <td>0.0</td>\n",
       "    </tr>\n",
       "    <tr>\n",
       "      <th>3</th>\n",
       "      <td>1122aabb-ccdd-eeff-3344-556677889900</td>\n",
       "      <td>0011</td>\n",
       "      <td>1</td>\n",
       "      <td>5.0</td>\n",
       "      <td>-0.50</td>\n",
       "      <td>2025-06-24 22:36:10.112233+00:00</td>\n",
       "      <td>2025-06-24 22:36:10.112233+00:00</td>\n",
       "      <td>0.0</td>\n",
       "    </tr>\n",
       "    <tr>\n",
       "      <th>4</th>\n",
       "      <td>44556677-8899-aabb-ccdd-eeff00112233</td>\n",
       "      <td>0019</td>\n",
       "      <td>1</td>\n",
       "      <td>6.0</td>\n",
       "      <td>0.00</td>\n",
       "      <td>2025-06-24 22:40:35.778899+00:00</td>\n",
       "      <td>2025-06-24 22:40:35.778899+00:00</td>\n",
       "      <td>0.0</td>\n",
       "    </tr>\n",
       "  </tbody>\n",
       "</table>\n",
       "</div>"
      ],
      "text/plain": [
       "                             session_id user_id  message_count  \\\n",
       "0  00998877-6655-4433-2211-ffeeccddbb88    0009              1   \n",
       "1  11223344-5566-7788-99aa-bbccddeeff00    0005              1   \n",
       "2  11223344-5566-7788-99aa-bbccddeeff00    0017              1   \n",
       "3  1122aabb-ccdd-eeff-3344-556677889900    0011              1   \n",
       "4  44556677-8899-aabb-ccdd-eeff00112233    0019              1   \n",
       "\n",
       "   avg_msg_length  sentiment_avg                       start_time  \\\n",
       "0             4.0           0.25 2025-06-24 22:34:55.123123+00:00   \n",
       "1             6.0           0.35 2025-06-24 22:32:20.555555+00:00   \n",
       "2             5.0           0.00 2025-06-24 22:39:28.445566+00:00   \n",
       "3             5.0          -0.50 2025-06-24 22:36:10.112233+00:00   \n",
       "4             6.0           0.00 2025-06-24 22:40:35.778899+00:00   \n",
       "\n",
       "                          end_time  session_duration_min  \n",
       "0 2025-06-24 22:34:55.123123+00:00                   0.0  \n",
       "1 2025-06-24 22:32:20.555555+00:00                   0.0  \n",
       "2 2025-06-24 22:39:28.445566+00:00                   0.0  \n",
       "3 2025-06-24 22:36:10.112233+00:00                   0.0  \n",
       "4 2025-06-24 22:40:35.778899+00:00                   0.0  "
      ]
     },
     "execution_count": 44,
     "metadata": {},
     "output_type": "execute_result"
    }
   ],
   "source": [
    "session_summary.head()\n"
   ]
  },
  {
   "cell_type": "code",
   "execution_count": 45,
   "id": "4b94b3d7",
   "metadata": {},
   "outputs": [
    {
     "name": "stdout",
     "output_type": "stream",
     "text": [
      "Correlation between message length and sentiment: 0.16\n"
     ]
    }
   ],
   "source": [
    "# Correlation between avg message length and sentiment\n",
    "correlation = session_summary['avg_msg_length'].corr(session_summary['sentiment_avg'])\n",
    "print(f\"Correlation between message length and sentiment: {correlation:.2f}\")\n"
   ]
  },
  {
   "cell_type": "code",
   "execution_count": null,
   "id": "dcaf8f8d",
   "metadata": {},
   "outputs": [],
   "source": []
  }
 ],
 "metadata": {
  "kernelspec": {
   "display_name": "Python 3",
   "language": "python",
   "name": "python3"
  },
  "language_info": {
   "codemirror_mode": {
    "name": "ipython",
    "version": 3
   },
   "file_extension": ".py",
   "mimetype": "text/x-python",
   "name": "python",
   "nbconvert_exporter": "python",
   "pygments_lexer": "ipython3",
   "version": "3.11.4"
  }
 },
 "nbformat": 4,
 "nbformat_minor": 5
}
