{
 "cells": [
  {
   "cell_type": "code",
   "execution_count": 2,
   "id": "44b8b5f5-4769-4851-95d7-271c7d89c7b3",
   "metadata": {},
   "outputs": [],
   "source": [
    "# from textblob import TextBlob\n",
    "from io import StringIO\n",
    "import pandas as pd\n",
    "import nltk\n",
    "from nltk.corpus import stopwords\n",
    "from sklearn.model_selection import train_test_split\n",
    "from sklearn.feature_extraction.text import TfidfVectorizer\n",
    "from sklearn.naive_bayes import MultinomialNB\n",
    "from nltk.tokenize import word_tokenize\n",
    "from sklearn.metrics import accuracy_score, classification_report\n",
    "from sklearn.linear_model import LogisticRegression\n",
    "from sklearn.svm import SVC\n",
    "from sklearn.model_selection import GridSearchCV"
   ]
  },
  {
   "cell_type": "code",
   "execution_count": 3,
   "id": "3686b7dc-3a3b-452f-8560-f02884bfd6d7",
   "metadata": {},
   "outputs": [
    {
     "name": "stderr",
     "output_type": "stream",
     "text": [
      "[nltk_data] Downloading package punkt to\n",
      "[nltk_data]     C:\\Users\\KUNAL\\AppData\\Roaming\\nltk_data...\n",
      "[nltk_data]   Package punkt is already up-to-date!\n",
      "[nltk_data] Downloading package stopwords to\n",
      "[nltk_data]     C:\\Users\\KUNAL\\AppData\\Roaming\\nltk_data...\n",
      "[nltk_data]   Package stopwords is already up-to-date!\n"
     ]
    },
    {
     "data": {
      "text/plain": [
       "True"
      ]
     },
     "execution_count": 3,
     "metadata": {},
     "output_type": "execute_result"
    }
   ],
   "source": [
    "nltk.download('punkt')\n",
    "nltk.download('stopwords')"
   ]
  },
  {
   "cell_type": "code",
   "execution_count": 15,
   "id": "69aad014-0084-452e-bea4-a8e0e7fd705d",
   "metadata": {},
   "outputs": [],
   "source": [
    "with open('train.txt/train.txt', 'r') as file:\n",
    "        data = file.read()"
   ]
  },
  {
   "cell_type": "code",
   "execution_count": 16,
   "id": "f541c850-a499-4187-9297-ee20d6469667",
   "metadata": {},
   "outputs": [],
   "source": [
    "data_io = StringIO(data)"
   ]
  },
  {
   "cell_type": "code",
   "execution_count": 17,
   "id": "126ff50c-c35b-4e69-9bb2-3a432e65067a",
   "metadata": {},
   "outputs": [],
   "source": [
    "texts = []\n",
    "emotions = []\n",
    "\n",
    "for line in data_io:\n",
    "    line = line.strip()  \n",
    "    if line:  \n",
    "        parts = line.split(';')\n",
    "        if len(parts) == 2:\n",
    "            texts.append(parts[0])\n",
    "            emotions.append(parts[1])\n",
    "        else:\n",
    "            print(f\"Warning: Skipping malformed line - '{line}'\")"
   ]
  },
  {
   "cell_type": "code",
   "execution_count": 18,
   "id": "1f31063c-db5d-4632-b218-8e68aeb34a9c",
   "metadata": {},
   "outputs": [],
   "source": [
    "df = pd.DataFrame({'text': texts, 'emotion': emotions})"
   ]
  },
  {
   "cell_type": "code",
   "execution_count": 19,
   "id": "a201853e-3b49-4e52-b432-75fa3fab3f6c",
   "metadata": {},
   "outputs": [
    {
     "data": {
      "text/html": [
       "<div>\n",
       "<style scoped>\n",
       "    .dataframe tbody tr th:only-of-type {\n",
       "        vertical-align: middle;\n",
       "    }\n",
       "\n",
       "    .dataframe tbody tr th {\n",
       "        vertical-align: top;\n",
       "    }\n",
       "\n",
       "    .dataframe thead th {\n",
       "        text-align: right;\n",
       "    }\n",
       "</style>\n",
       "<table border=\"1\" class=\"dataframe\">\n",
       "  <thead>\n",
       "    <tr style=\"text-align: right;\">\n",
       "      <th></th>\n",
       "      <th>text</th>\n",
       "      <th>emotion</th>\n",
       "    </tr>\n",
       "  </thead>\n",
       "  <tbody>\n",
       "    <tr>\n",
       "      <th>0</th>\n",
       "      <td>i didnt feel humiliated</td>\n",
       "      <td>sadness</td>\n",
       "    </tr>\n",
       "    <tr>\n",
       "      <th>1</th>\n",
       "      <td>i can go from feeling so hopeless to so damned...</td>\n",
       "      <td>sadness</td>\n",
       "    </tr>\n",
       "    <tr>\n",
       "      <th>2</th>\n",
       "      <td>im grabbing a minute to post i feel greedy wrong</td>\n",
       "      <td>anger</td>\n",
       "    </tr>\n",
       "    <tr>\n",
       "      <th>3</th>\n",
       "      <td>i am ever feeling nostalgic about the fireplac...</td>\n",
       "      <td>love</td>\n",
       "    </tr>\n",
       "    <tr>\n",
       "      <th>4</th>\n",
       "      <td>i am feeling grouchy</td>\n",
       "      <td>anger</td>\n",
       "    </tr>\n",
       "  </tbody>\n",
       "</table>\n",
       "</div>"
      ],
      "text/plain": [
       "                                                text  emotion\n",
       "0                            i didnt feel humiliated  sadness\n",
       "1  i can go from feeling so hopeless to so damned...  sadness\n",
       "2   im grabbing a minute to post i feel greedy wrong    anger\n",
       "3  i am ever feeling nostalgic about the fireplac...     love\n",
       "4                               i am feeling grouchy    anger"
      ]
     },
     "execution_count": 19,
     "metadata": {},
     "output_type": "execute_result"
    }
   ],
   "source": [
    "df.head()"
   ]
  },
  {
   "cell_type": "code",
   "execution_count": 20,
   "id": "97b91879-85c6-4ae9-9710-e1ac26a350fc",
   "metadata": {},
   "outputs": [
    {
     "name": "stdout",
     "output_type": "stream",
     "text": [
      "emotion\n",
      "joy           5362\n",
      "sadness       4666\n",
      "anger         2159\n",
      "fear          1937\n",
      "love          1304\n",
      "suicidal      1025\n",
      "depression    1000\n",
      "surprise       967\n",
      "Name: count, dtype: int64\n"
     ]
    }
   ],
   "source": [
    "emotion_counts = df['emotion'].value_counts()\n",
    "print(emotion_counts)"
   ]
  },
  {
   "cell_type": "code",
   "execution_count": 21,
   "id": "b52ad045-2303-41ee-b301-2c80f7f1d4da",
   "metadata": {},
   "outputs": [
    {
     "data": {
      "text/html": [
       "<div>\n",
       "<style scoped>\n",
       "    .dataframe tbody tr th:only-of-type {\n",
       "        vertical-align: middle;\n",
       "    }\n",
       "\n",
       "    .dataframe tbody tr th {\n",
       "        vertical-align: top;\n",
       "    }\n",
       "\n",
       "    .dataframe thead th {\n",
       "        text-align: right;\n",
       "    }\n",
       "</style>\n",
       "<table border=\"1\" class=\"dataframe\">\n",
       "  <thead>\n",
       "    <tr style=\"text-align: right;\">\n",
       "      <th></th>\n",
       "      <th>text</th>\n",
       "      <th>emotion</th>\n",
       "    </tr>\n",
       "  </thead>\n",
       "  <tbody>\n",
       "    <tr>\n",
       "      <th>0</th>\n",
       "      <td>im grabbing a minute to post i feel greedy wrong</td>\n",
       "      <td>anger</td>\n",
       "    </tr>\n",
       "    <tr>\n",
       "      <th>1</th>\n",
       "      <td>i am feeling grouchy</td>\n",
       "      <td>anger</td>\n",
       "    </tr>\n",
       "    <tr>\n",
       "      <th>2</th>\n",
       "      <td>i think it s the easiest time of year to feel ...</td>\n",
       "      <td>anger</td>\n",
       "    </tr>\n",
       "    <tr>\n",
       "      <th>3</th>\n",
       "      <td>i feel irritated and rejected without anyone d...</td>\n",
       "      <td>anger</td>\n",
       "    </tr>\n",
       "    <tr>\n",
       "      <th>4</th>\n",
       "      <td>i already feel like i fucked up though because...</td>\n",
       "      <td>anger</td>\n",
       "    </tr>\n",
       "  </tbody>\n",
       "</table>\n",
       "</div>"
      ],
      "text/plain": [
       "                                                text emotion\n",
       "0   im grabbing a minute to post i feel greedy wrong   anger\n",
       "1                               i am feeling grouchy   anger\n",
       "2  i think it s the easiest time of year to feel ...   anger\n",
       "3  i feel irritated and rejected without anyone d...   anger\n",
       "4  i already feel like i fucked up though because...   anger"
      ]
     },
     "execution_count": 21,
     "metadata": {},
     "output_type": "execute_result"
    }
   ],
   "source": [
    "grouped = df.groupby('emotion')\n",
    "\n",
    "limited_df = pd.DataFrame()\n",
    "\n",
    "for emotion, group in grouped:\n",
    "    limited_group = group.head(950)\n",
    "    limited_df = pd.concat([limited_df, limited_group])\n",
    "\n",
    "limited_df = limited_df.reset_index(drop=True)\n",
    "\n",
    "limited_df.head()"
   ]
  },
  {
   "cell_type": "code",
   "execution_count": 22,
   "id": "d5a5f508-3e81-4cf2-aa61-504fed22138c",
   "metadata": {},
   "outputs": [
    {
     "name": "stdout",
     "output_type": "stream",
     "text": [
      "emotion\n",
      "anger         950\n",
      "depression    950\n",
      "fear          950\n",
      "joy           950\n",
      "love          950\n",
      "sadness       950\n",
      "suicidal      950\n",
      "surprise      950\n",
      "Name: count, dtype: int64\n"
     ]
    }
   ],
   "source": [
    "emotion_counts = limited_df['emotion'].value_counts()\n",
    "print(emotion_counts)"
   ]
  },
  {
   "cell_type": "code",
   "execution_count": 23,
   "id": "6438fe0b-90cb-435e-9104-a06126c34cae",
   "metadata": {},
   "outputs": [
    {
     "name": "stdout",
     "output_type": "stream",
     "text": [
      "                                                    text   emotion\n",
      "0                                i didnt feel humiliated   sadness\n",
      "1      i can go from feeling so hopeless to so damned...   sadness\n",
      "2       im grabbing a minute to post i feel greedy wrong     anger\n",
      "3      i am ever feeling nostalgic about the fireplac...      love\n",
      "4                                   i am feeling grouchy     anger\n",
      "...                                                  ...       ...\n",
      "18415  I thought it would be harder, but it was much ...  surprise\n",
      "18416     I didnâ€™t think Iâ€™d be able to achieve this  surprise\n",
      "18417  I didnâ€™t think Iâ€™d be able to finish this ...  surprise\n",
      "18418  I thought it was going to be a nightmare, but ...  surprise\n",
      "18419  I was so surprised by how easily everything ca...  surprise\n",
      "\n",
      "[18420 rows x 2 columns]\n",
      "emotion\n",
      "joy           5362\n",
      "sadness       4666\n",
      "anger         2159\n",
      "fear          1937\n",
      "love          1304\n",
      "suicidal      1025\n",
      "depression    1000\n",
      "surprise       967\n",
      "Name: count, dtype: int64\n"
     ]
    }
   ],
   "source": [
    "print(df)\n",
    "print(df['emotion'].value_counts())"
   ]
  },
  {
   "cell_type": "code",
   "execution_count": 24,
   "id": "fd7e3232-aa36-475e-9492-44fc5589b0a1",
   "metadata": {},
   "outputs": [],
   "source": [
    "def preprocess_text(text):\n",
    "    # Tokenize the text\n",
    "    tokens = word_tokenize(text.lower())  # lowercase the text and tokenize it\n",
    "    \n",
    "    # Remove stopwords\n",
    "    stop_words = set(stopwords.words('english'))\n",
    "    tokens = [word for word in tokens if word not in stop_words and word.isalnum()]\n",
    "    \n",
    "    # Rejoin tokens back to string\n",
    "    return ' '.join(tokens)\n",
    "\n",
    "df['preprocessed_text'] = df['text'].apply(preprocess_text)"
   ]
  },
  {
   "cell_type": "code",
   "execution_count": 25,
   "id": "020179d7-471f-45e2-8b06-d0f71db8c883",
   "metadata": {},
   "outputs": [
    {
     "data": {
      "text/html": [
       "<div>\n",
       "<style scoped>\n",
       "    .dataframe tbody tr th:only-of-type {\n",
       "        vertical-align: middle;\n",
       "    }\n",
       "\n",
       "    .dataframe tbody tr th {\n",
       "        vertical-align: top;\n",
       "    }\n",
       "\n",
       "    .dataframe thead th {\n",
       "        text-align: right;\n",
       "    }\n",
       "</style>\n",
       "<table border=\"1\" class=\"dataframe\">\n",
       "  <thead>\n",
       "    <tr style=\"text-align: right;\">\n",
       "      <th></th>\n",
       "      <th>text</th>\n",
       "      <th>emotion</th>\n",
       "      <th>preprocessed_text</th>\n",
       "    </tr>\n",
       "  </thead>\n",
       "  <tbody>\n",
       "    <tr>\n",
       "      <th>0</th>\n",
       "      <td>i didnt feel humiliated</td>\n",
       "      <td>sadness</td>\n",
       "      <td>didnt feel humiliated</td>\n",
       "    </tr>\n",
       "    <tr>\n",
       "      <th>1</th>\n",
       "      <td>i can go from feeling so hopeless to so damned...</td>\n",
       "      <td>sadness</td>\n",
       "      <td>go feeling hopeless damned hopeful around some...</td>\n",
       "    </tr>\n",
       "    <tr>\n",
       "      <th>2</th>\n",
       "      <td>im grabbing a minute to post i feel greedy wrong</td>\n",
       "      <td>anger</td>\n",
       "      <td>im grabbing minute post feel greedy wrong</td>\n",
       "    </tr>\n",
       "    <tr>\n",
       "      <th>3</th>\n",
       "      <td>i am ever feeling nostalgic about the fireplac...</td>\n",
       "      <td>love</td>\n",
       "      <td>ever feeling nostalgic fireplace know still pr...</td>\n",
       "    </tr>\n",
       "    <tr>\n",
       "      <th>4</th>\n",
       "      <td>i am feeling grouchy</td>\n",
       "      <td>anger</td>\n",
       "      <td>feeling grouchy</td>\n",
       "    </tr>\n",
       "  </tbody>\n",
       "</table>\n",
       "</div>"
      ],
      "text/plain": [
       "                                                text  emotion  \\\n",
       "0                            i didnt feel humiliated  sadness   \n",
       "1  i can go from feeling so hopeless to so damned...  sadness   \n",
       "2   im grabbing a minute to post i feel greedy wrong    anger   \n",
       "3  i am ever feeling nostalgic about the fireplac...     love   \n",
       "4                               i am feeling grouchy    anger   \n",
       "\n",
       "                                   preprocessed_text  \n",
       "0                              didnt feel humiliated  \n",
       "1  go feeling hopeless damned hopeful around some...  \n",
       "2          im grabbing minute post feel greedy wrong  \n",
       "3  ever feeling nostalgic fireplace know still pr...  \n",
       "4                                    feeling grouchy  "
      ]
     },
     "execution_count": 25,
     "metadata": {},
     "output_type": "execute_result"
    }
   ],
   "source": [
    "df.head()"
   ]
  },
  {
   "cell_type": "code",
   "execution_count": 26,
   "id": "9627f48b-6fb6-45af-9c9b-d6e0b4ac8319",
   "metadata": {},
   "outputs": [],
   "source": [
    "X = df['preprocessed_text']\n",
    "y = df['emotion']\n",
    "\n",
    "X_train, X_test, y_train, y_test = train_test_split(X, y, test_size=0.2, random_state=42, stratify=y)"
   ]
  },
  {
   "cell_type": "code",
   "execution_count": 27,
   "id": "e3b66a14-e78b-494a-800a-a84640736b89",
   "metadata": {},
   "outputs": [
    {
     "name": "stdout",
     "output_type": "stream",
     "text": [
      "(14736,) (14736,) (3684,) (3684,)\n"
     ]
    }
   ],
   "source": [
    "print(X_train.shape, y_train.shape, X_test.shape, y_test.shape)"
   ]
  },
  {
   "cell_type": "code",
   "execution_count": 28,
   "id": "d1a3d8a1-6de9-4d2b-9733-f346a36311d3",
   "metadata": {},
   "outputs": [],
   "source": [
    "vectorizer = TfidfVectorizer()\n",
    "X_train_tfidf = vectorizer.fit_transform(X_train)\n",
    "X_test_tfidf = vectorizer.transform(X_test)"
   ]
  },
  {
   "cell_type": "code",
   "execution_count": 31,
   "id": "c18656cd-b422-44f5-a406-d91db1e7e31e",
   "metadata": {},
   "outputs": [],
   "source": [
    "param_grids = {\n",
    "    \"Logistic Regression\": {\n",
    "        'C': [0.1, 1, 10],\n",
    "        'solver': ['liblinear', 'saga'],\n",
    "        'max_iter': [100, 200]\n",
    "    },\n",
    "    \"SVC\": {\n",
    "        'C': [0.1, 1, 10],\n",
    "        'kernel': ['linear', 'rbf'],\n",
    "        'gamma': ['scale', 'auto']\n",
    "    },\n",
    "    \"Multinomial Naive Bayes\": {\n",
    "        'alpha': [0.1, 0.5, 1.0]\n",
    "    }\n",
    "}"
   ]
  },
  {
   "cell_type": "code",
   "execution_count": 30,
   "id": "56b57884-129a-4dd7-b788-2ca034c882e2",
   "metadata": {},
   "outputs": [
    {
     "name": "stdout",
     "output_type": "stream",
     "text": [
      "Evaluating Logistic Regression...\n"
     ]
    },
    {
     "ename": "NameError",
     "evalue": "name 'param_grids' is not defined",
     "output_type": "error",
     "traceback": [
      "\u001b[31m---------------------------------------------------------------------------\u001b[39m",
      "\u001b[31mNameError\u001b[39m                                 Traceback (most recent call last)",
      "\u001b[36mCell\u001b[39m\u001b[36m \u001b[39m\u001b[32mIn[30]\u001b[39m\u001b[32m, line 10\u001b[39m\n\u001b[32m      7\u001b[39m \u001b[38;5;28mprint\u001b[39m(\u001b[33mf\u001b[39m\u001b[33m\"\u001b[39m\u001b[33mEvaluating \u001b[39m\u001b[38;5;132;01m{\u001b[39;00mmodel_name\u001b[38;5;132;01m}\u001b[39;00m\u001b[33m...\u001b[39m\u001b[33m\"\u001b[39m)\n\u001b[32m      9\u001b[39m \u001b[38;5;66;03m# GridSearchCV for hyperparameter tuning\u001b[39;00m\n\u001b[32m---> \u001b[39m\u001b[32m10\u001b[39m grid_search = GridSearchCV(model, \u001b[43mparam_grids\u001b[49m[model_name], cv=\u001b[32m3\u001b[39m, scoring=\u001b[33m'\u001b[39m\u001b[33maccuracy\u001b[39m\u001b[33m'\u001b[39m, n_jobs=-\u001b[32m1\u001b[39m)\n\u001b[32m     12\u001b[39m grid_search.fit(X_train_tfidf, y_train)  \u001b[38;5;66;03m# Train with grid search\u001b[39;00m\n\u001b[32m     14\u001b[39m \u001b[38;5;66;03m# Get the best model and its parameters\u001b[39;00m\n",
      "\u001b[31mNameError\u001b[39m: name 'param_grids' is not defined"
     ]
    }
   ],
   "source": [
    "models = {\n",
    "    \"Logistic Regression\": LogisticRegression(),\n",
    "    \"SVC\": SVC(),\n",
    "    \"Multinomial Naive Bayes\": MultinomialNB()\n",
    "}\n",
    "for model_name, model in models.items():\n",
    "    print(f\"Evaluating {model_name}...\")\n",
    "    \n",
    "    # GridSearchCV for hyperparameter tuning\n",
    "    grid_search = GridSearchCV(model, param_grids[model_name], cv=3, scoring='accuracy', n_jobs=-1)\n",
    "    \n",
    "    grid_search.fit(X_train_tfidf, y_train)  # Train with grid search\n",
    "\n",
    "    # Get the best model and its parameters\n",
    "    best_model = grid_search.best_estimator_\n",
    "    best_params = grid_search.best_params_\n",
    "\n",
    "    # Predict on training and test sets\n",
    "    y_train_pred = best_model.predict(X_train_tfidf)\n",
    "    y_test_pred = best_model.predict(X_test_tfidf)\n",
    "\n",
    "    # Print the best parameters and accuracies\n",
    "    train_accuracy = accuracy_score(y_train, y_train_pred)\n",
    "    test_accuracy = accuracy_score(y_test, y_test_pred)\n",
    "    \n",
    "    print(f\"Best Parameters: {best_params}\")\n",
    "    print(f\"Training Accuracy: {train_accuracy:.4f}\")\n",
    "    print(f\"Test Accuracy: {test_accuracy:.4f}\")\n",
    "    print(f\"Classification Report:\\n{classification_report(y_test, y_test_pred)}\")\n",
    "    print(\"=\"*50)"
   ]
  },
  {
   "cell_type": "code",
   "execution_count": 31,
   "id": "347b0454-ac36-48d8-b85d-e9582b67c0e1",
   "metadata": {},
   "outputs": [
    {
     "name": "stdout",
     "output_type": "stream",
     "text": [
      "Training Accuracy: 0.9681\n",
      "Test Accuracy: 0.8931\n",
      "Classification Report:\n",
      "              precision    recall  f1-score   support\n",
      "\n",
      "       anger       0.89      0.85      0.87       432\n",
      "  depression       0.96      1.00      0.98       200\n",
      "        fear       0.84      0.86      0.85       388\n",
      "         joy       0.87      0.93      0.90      1072\n",
      "        love       0.80      0.76      0.78       261\n",
      "     sadness       0.93      0.90      0.92       933\n",
      "    suicidal       1.00      0.99      0.99       205\n",
      "    surprise       0.90      0.77      0.83       193\n",
      "\n",
      "    accuracy                           0.89      3684\n",
      "   macro avg       0.90      0.88      0.89      3684\n",
      "weighted avg       0.89      0.89      0.89      3684\n",
      "\n"
     ]
    }
   ],
   "source": [
    "final_model = SVC(C=1, gamma='scale', kernel='linear')\n",
    "final_model.fit(X_train_tfidf, y_train)\n",
    "\n",
    "y_train_pred = final_model.predict(X_train_tfidf)\n",
    "y_test_pred = final_model.predict(X_test_tfidf)\n",
    "\n",
    "# Evaluate\n",
    "from sklearn.metrics import accuracy_score, classification_report\n",
    "\n",
    "print(f\"Training Accuracy: {accuracy_score(y_train, y_train_pred):.4f}\")\n",
    "print(f\"Test Accuracy: {accuracy_score(y_test, y_test_pred):.4f}\")\n",
    "print(\"Classification Report:\")\n",
    "print(classification_report(y_test, y_test_pred))"
   ]
  },
  {
   "cell_type": "code",
   "execution_count": 40,
   "id": "c2707e18-cf44-40d7-82a2-bab73ef76b9e",
   "metadata": {},
   "outputs": [
    {
     "name": "stdout",
     "output_type": "stream",
     "text": [
      "['joy']\n",
      "['joy']\n",
      "['sadness']\n",
      "['surprise']\n",
      "['depression']\n",
      "['joy']\n"
     ]
    }
   ],
   "source": [
    "def predict_emotion(text):\n",
    "    processed_text = preprocess_text(text)\n",
    "    text_tfidf = vectorizer.transform([processed_text])\n",
    "    return final_model.predict(text_tfidf)\n",
    "\n",
    "# Test with a new entry\n",
    "new_entry = [\"I want to kill myself\", \"I am so happy\", \"I dont know what to do with my life anymore\", \"I did not expect you here\", \"I feel hopeless\", \"I wanna kill myself\"]\n",
    "for i in new_entry:\n",
    "    print(predict_emotion(i))"
   ]
  },
  {
   "cell_type": "code",
   "execution_count": 100,
   "id": "3f233134-ea0c-46e2-82ce-0de5a187d1fd",
   "metadata": {},
   "outputs": [
    {
     "name": "stdout",
     "output_type": "stream",
     "text": [
      "Model saved.\n"
     ]
    }
   ],
   "source": [
    "import pickle\n",
    "with open('emotion_model.pkl', 'wb') as model_file:\n",
    "    pickle.dump(model, model_file)\n",
    "\n",
    "with open('vectorizer.pkl', 'wb') as vectorizer_file:\n",
    "    pickle.dump(vectorizer, vectorizer_file)\n",
    "\n",
    "print(\"Model saved.\")"
   ]
  },
  {
   "cell_type": "code",
   "execution_count": null,
   "id": "17d9ddf8-0d77-4b0d-9a2f-f5be9f536951",
   "metadata": {},
   "outputs": [],
   "source": []
  }
 ],
 "metadata": {
  "kernelspec": {
   "display_name": "Python 3",
   "language": "python",
   "name": "python3"
  },
  "language_info": {
   "codemirror_mode": {
    "name": "ipython",
    "version": 3
   },
   "file_extension": ".py",
   "mimetype": "text/x-python",
   "name": "python",
   "nbconvert_exporter": "python",
   "pygments_lexer": "ipython3",
   "version": "3.13.1"
  }
 },
 "nbformat": 4,
 "nbformat_minor": 5
}
