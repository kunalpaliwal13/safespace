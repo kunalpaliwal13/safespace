{
 "cells": [
  {
   "cell_type": "code",
   "execution_count": 3,
   "id": "eaa2fa74-c3fe-435e-af66-4e58e1be1015",
   "metadata": {},
   "outputs": [],
   "source": [
    "# from textblob import TextBlob\n",
    "from io import StringIO\n",
    "import pandas as pd\n",
    "import nltk\n",
    "from nltk.corpus import stopwords\n",
    "from sklearn.model_selection import train_test_split\n",
    "from sklearn.feature_extraction.text import TfidfVectorizer\n",
    "from sklearn.naive_bayes import MultinomialNB\n",
    "from nltk.tokenize import word_tokenize\n",
    "from sklearn.metrics import accuracy_score, classification_report\n",
    "from sklearn.linear_model import LogisticRegression\n",
    "from sklearn.svm import SVC\n",
    "from sklearn.model_selection import GridSearchCV"
   ]
  },
  {
   "cell_type": "code",
   "execution_count": 4,
   "id": "11373188-c4f2-4003-a634-3e31a83cb1ec",
   "metadata": {},
   "outputs": [],
   "source": [
    "df = pd.read_csv('Suicide_Detection.csv')"
   ]
  },
  {
   "cell_type": "code",
   "execution_count": 5,
   "id": "bc50c44e-3b37-42e8-a87b-27e77d319718",
   "metadata": {},
   "outputs": [
    {
     "data": {
      "text/html": [
       "<div>\n",
       "<style scoped>\n",
       "    .dataframe tbody tr th:only-of-type {\n",
       "        vertical-align: middle;\n",
       "    }\n",
       "\n",
       "    .dataframe tbody tr th {\n",
       "        vertical-align: top;\n",
       "    }\n",
       "\n",
       "    .dataframe thead th {\n",
       "        text-align: right;\n",
       "    }\n",
       "</style>\n",
       "<table border=\"1\" class=\"dataframe\">\n",
       "  <thead>\n",
       "    <tr style=\"text-align: right;\">\n",
       "      <th></th>\n",
       "      <th>Unnamed: 0</th>\n",
       "      <th>text</th>\n",
       "      <th>class</th>\n",
       "    </tr>\n",
       "  </thead>\n",
       "  <tbody>\n",
       "    <tr>\n",
       "      <th>0</th>\n",
       "      <td>2</td>\n",
       "      <td>Ex Wife Threatening SuicideRecently I left my ...</td>\n",
       "      <td>suicide</td>\n",
       "    </tr>\n",
       "    <tr>\n",
       "      <th>1</th>\n",
       "      <td>3</td>\n",
       "      <td>Am I weird I don't get affected by compliments...</td>\n",
       "      <td>non-suicide</td>\n",
       "    </tr>\n",
       "    <tr>\n",
       "      <th>2</th>\n",
       "      <td>4</td>\n",
       "      <td>Finally 2020 is almost over... So I can never ...</td>\n",
       "      <td>non-suicide</td>\n",
       "    </tr>\n",
       "    <tr>\n",
       "      <th>3</th>\n",
       "      <td>8</td>\n",
       "      <td>i need helpjust help me im crying so hard</td>\n",
       "      <td>suicide</td>\n",
       "    </tr>\n",
       "    <tr>\n",
       "      <th>4</th>\n",
       "      <td>9</td>\n",
       "      <td>I’m so lostHello, my name is Adam (16) and I’v...</td>\n",
       "      <td>suicide</td>\n",
       "    </tr>\n",
       "  </tbody>\n",
       "</table>\n",
       "</div>"
      ],
      "text/plain": [
       "   Unnamed: 0                                               text        class\n",
       "0           2  Ex Wife Threatening SuicideRecently I left my ...      suicide\n",
       "1           3  Am I weird I don't get affected by compliments...  non-suicide\n",
       "2           4  Finally 2020 is almost over... So I can never ...  non-suicide\n",
       "3           8          i need helpjust help me im crying so hard      suicide\n",
       "4           9  I’m so lostHello, my name is Adam (16) and I’v...      suicide"
      ]
     },
     "execution_count": 5,
     "metadata": {},
     "output_type": "execute_result"
    }
   ],
   "source": [
    "df.head()"
   ]
  },
  {
   "cell_type": "code",
   "execution_count": 6,
   "id": "2112ab76-3250-4848-8508-9d61c9cb4981",
   "metadata": {},
   "outputs": [
    {
     "name": "stdout",
     "output_type": "stream",
     "text": [
      "class\n",
      "suicide        116037\n",
      "non-suicide    116037\n",
      "Name: count, dtype: int64\n"
     ]
    }
   ],
   "source": [
    "emotion_counts = df['class'].value_counts()\n",
    "print(emotion_counts)"
   ]
  },
  {
   "cell_type": "code",
   "execution_count": 7,
   "id": "b9373814-8256-42b6-81ae-1c62fbb60a62",
   "metadata": {},
   "outputs": [],
   "source": [
    "def preprocess_text(text):\n",
    "    tokens = word_tokenize(text.lower())  \n",
    "    stop_words = set(stopwords.words('english'))\n",
    "    tokens = [word for word in tokens if word not in stop_words and word.isalnum()]\n",
    "\n",
    "    return ' '.join(tokens)\n",
    "\n",
    "df['preprocessed_text'] = df['text'].apply(preprocess_text)"
   ]
  },
  {
   "cell_type": "code",
   "execution_count": 8,
   "id": "4fc8ef0e-7219-4711-b04f-e033b963a449",
   "metadata": {},
   "outputs": [],
   "source": [
    "X = df['preprocessed_text']\n",
    "y = df['class']\n",
    "\n",
    "X_train, X_test, y_train, y_test = train_test_split(X, y, test_size=0.2, random_state=42, stratify=y)"
   ]
  },
  {
   "cell_type": "code",
   "execution_count": 9,
   "id": "a886c3c1-f7a5-4112-9954-b9ac59be4f8a",
   "metadata": {},
   "outputs": [],
   "source": [
    "vectorizer = TfidfVectorizer()\n",
    "X_train_tfidf = vectorizer.fit_transform(X_train)\n",
    "X_test_tfidf = vectorizer.transform(X_test)"
   ]
  },
  {
   "cell_type": "code",
   "execution_count": null,
   "id": "e2264bea-fcb0-4be7-b0c8-9335a8222698",
   "metadata": {},
   "outputs": [],
   "source": [
    "param_grids = {\n",
    "    \"Logistic Regression\": {\n",
    "        'C': [0.1, 1, 10],\n",
    "        'solver': ['liblinear', 'saga'],\n",
    "        'max_iter': [100, 200]\n",
    "    },\n",
    "    \"SVC\": {\n",
    "        'C': [0.1, 1, 10],\n",
    "        'kernel': ['linear', 'rbf'],\n",
    "        'gamma': ['scale', 'auto']\n",
    "    },\n",
    "    \"Multinomial Naive Bayes\": {\n",
    "        'alpha': [0.1, 0.5, 1.0]\n",
    "    }\n",
    "}"
   ]
  },
  {
   "cell_type": "code",
   "execution_count": 8,
   "id": "1e95b9c7-8267-4ed5-b9d4-076e6e0715cd",
   "metadata": {},
   "outputs": [
    {
     "name": "stdout",
     "output_type": "stream",
     "text": [
      "Model: Logistic Regression\n",
      "Training Accuracy: 0.9418\n",
      "Test Accuracy: 0.9368\n",
      "Classification Report:\n",
      "              precision    recall  f1-score   support\n",
      "\n",
      " non-suicide       0.93      0.95      0.94     23208\n",
      "     suicide       0.94      0.93      0.94     23207\n",
      "\n",
      "    accuracy                           0.94     46415\n",
      "   macro avg       0.94      0.94      0.94     46415\n",
      "weighted avg       0.94      0.94      0.94     46415\n",
      "\n",
      "==================================================\n",
      "Model: Multinomial Naive Bayes\n",
      "Training Accuracy: 0.9035\n",
      "Test Accuracy: 0.8934\n",
      "Classification Report:\n",
      "              precision    recall  f1-score   support\n",
      "\n",
      " non-suicide       0.97      0.81      0.88     23208\n",
      "     suicide       0.84      0.97      0.90     23207\n",
      "\n",
      "    accuracy                           0.89     46415\n",
      "   macro avg       0.90      0.89      0.89     46415\n",
      "weighted avg       0.90      0.89      0.89     46415\n",
      "\n",
      "==================================================\n"
     ]
    }
   ],
   "source": [
    "models = {\n",
    "    \"Logistic Regression\": LogisticRegression(),\n",
    "    \"Multinomial Naive Bayes\": MultinomialNB()\n",
    "}\n",
    "for model_name, model in models.items():\n",
    "    model.fit(X_train_tfidf, y_train)  # Train the model\n",
    "    y_train_pred = model.predict(X_train_tfidf)  # Predict on training set\n",
    "    y_test_pred = model.predict(X_test_tfidf)  # Predict on test set\n",
    "\n",
    "    # Print the accuracies\n",
    "    train_accuracy = accuracy_score(y_train, y_train_pred)\n",
    "    test_accuracy = accuracy_score(y_test, y_test_pred)\n",
    "    \n",
    "    print(f\"Model: {model_name}\")\n",
    "    print(f\"Training Accuracy: {train_accuracy:.4f}\")\n",
    "    print(f\"Test Accuracy: {test_accuracy:.4f}\")\n",
    "    print(f\"Classification Report:\\n{classification_report(y_test, y_test_pred)}\")\n",
    "    print(\"=\"*50)"
   ]
  },
  {
   "cell_type": "code",
   "execution_count": 9,
   "id": "4a67cb5d-0e71-4684-9aeb-8f23dde8c161",
   "metadata": {},
   "outputs": [
    {
     "name": "stdout",
     "output_type": "stream",
     "text": [
      "Training Accuracy: 0.9418\n",
      "Test Accuracy: 0.9368\n",
      "Classification Report:\n",
      "              precision    recall  f1-score   support\n",
      "\n",
      " non-suicide       0.93      0.95      0.94     23208\n",
      "     suicide       0.94      0.93      0.94     23207\n",
      "\n",
      "    accuracy                           0.94     46415\n",
      "   macro avg       0.94      0.94      0.94     46415\n",
      "weighted avg       0.94      0.94      0.94     46415\n",
      "\n"
     ]
    }
   ],
   "source": [
    "final_model = LogisticRegression()\n",
    "final_model.fit(X_train_tfidf, y_train)\n",
    "\n",
    "y_train_pred = final_model.predict(X_train_tfidf)\n",
    "y_test_pred = final_model.predict(X_test_tfidf)\n",
    "\n",
    "# Evaluate\n",
    "from sklearn.metrics import accuracy_score, classification_report\n",
    "\n",
    "print(f\"Training Accuracy: {accuracy_score(y_train, y_train_pred):.4f}\")\n",
    "print(f\"Test Accuracy: {accuracy_score(y_test, y_test_pred):.4f}\")\n",
    "print(\"Classification Report:\")\n",
    "print(classification_report(y_test, y_test_pred))"
   ]
  },
  {
   "cell_type": "code",
   "execution_count": 12,
   "id": "d9ec66b8",
   "metadata": {},
   "outputs": [
    {
     "name": "stdout",
     "output_type": "stream",
     "text": [
      "Model saved successfully to suicidalOrNot.pkl\n"
     ]
    }
   ],
   "source": [
    "import pickle\n",
    "def save_model(model, file_path):\n",
    "  try:\n",
    "    with open(file_path, 'wb') as file:\n",
    "      pickle.dump(model, file)\n",
    "    print(f\"Model saved successfully to {file_path}\")\n",
    "  except Exception as e:\n",
    "    print(f\"An error occurred during saving: {e}\")\n",
    "\n",
    "save_model(final_model, 'suicidalOrNot.pkl')"
   ]
  },
  {
   "cell_type": "code",
   "execution_count": 10,
   "id": "2d30897b",
   "metadata": {},
   "outputs": [],
   "source": [
    "def save_object(obj, file_path):\n",
    "  try:\n",
    "    with open(file_path, 'wb') as file:\n",
    "      pickle.dump(obj, file)\n",
    "    print(f\"Object saved successfully to {file_path}\")\n",
    "  except Exception as e:\n",
    "    print(f\"An error occurred during saving: {e}\")"
   ]
  },
  {
   "cell_type": "code",
   "execution_count": 13,
   "id": "58b89458-adfc-4e78-bb8f-e4b76110564f",
   "metadata": {},
   "outputs": [
    {
     "name": "stdout",
     "output_type": "stream",
     "text": [
      "['suicide']\n",
      "['non-suicide']\n",
      "['suicide']\n",
      "['non-suicide']\n",
      "['suicide']\n",
      "['suicide']\n"
     ]
    }
   ],
   "source": [
    "def predict_emotion(text):\n",
    "    processed_text = preprocess_text(text)\n",
    "    text_tfidf = vectorizer.transform([processed_text])\n",
    "    return final_model.predict(text_tfidf)\n",
    "\n",
    "# Test with a new entry\n",
    "new_entry = [\"I want to kill myself\", \"I am so happy\", \"I dont know what to do with my life anymore\", \"I did not expect you here\", \"I feel hopeless\", \"I wanna kill myself\"]\n",
    "for i in new_entry:\n",
    "    print(predict_emotion(i))"
   ]
  },
  {
   "cell_type": "code",
   "execution_count": 12,
   "id": "762d7aad",
   "metadata": {},
   "outputs": [
    {
     "name": "stdout",
     "output_type": "stream",
     "text": [
      "Object saved successfully to vectorizer.pkl\n"
     ]
    }
   ],
   "source": [
    "import pickle\n",
    "save_object(vectorizer, 'vectorizer.pkl')"
   ]
  },
  {
   "cell_type": "code",
   "execution_count": null,
   "id": "aa44837e-d585-42a5-84ce-5f6cef03d067",
   "metadata": {},
   "outputs": [],
   "source": []
  },
  {
   "cell_type": "code",
   "execution_count": null,
   "id": "7e73acf4-23f8-4f9a-9d55-4093d67cfaca",
   "metadata": {},
   "outputs": [],
   "source": []
  }
 ],
 "metadata": {
  "kernelspec": {
   "display_name": "Python 3",
   "language": "python",
   "name": "python3"
  },
  "language_info": {
   "codemirror_mode": {
    "name": "ipython",
    "version": 3
   },
   "file_extension": ".py",
   "mimetype": "text/x-python",
   "name": "python",
   "nbconvert_exporter": "python",
   "pygments_lexer": "ipython3",
   "version": "3.13.1"
  }
 },
 "nbformat": 4,
 "nbformat_minor": 5
}
